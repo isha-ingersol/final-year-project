{
  "nbformat": 4,
  "nbformat_minor": 0,
  "metadata": {
    "colab": {
      "provenance": [],
      "mount_file_id": "177__VTEPrG5k44FLmLnIFRQvLaWUNmQL",
      "authorship_tag": "ABX9TyMxQFezAC4dQyyCILfG963o",
      "include_colab_link": true
    },
    "kernelspec": {
      "name": "python3",
      "display_name": "Python 3"
    },
    "language_info": {
      "name": "python"
    }
  },
  "cells": [
    {
      "cell_type": "markdown",
      "metadata": {
        "id": "view-in-github",
        "colab_type": "text"
      },
      "source": [
        "<a href=\"https://colab.research.google.com/github/isha-ingersol/final-year-project/blob/main/final_year_project_draft_1.ipynb\" target=\"_parent\"><img src=\"https://colab.research.google.com/assets/colab-badge.svg\" alt=\"Open In Colab\"/></a>"
      ]
    },
    {
      "cell_type": "markdown",
      "source": [
        "# Google Colab Notebook for Analysing Motion Data\n",
        "\n",
        "## Step 1: Environment Setup"
      ],
      "metadata": {
        "id": "aMwdGCyfmS3L"
      }
    },
    {
      "cell_type": "code",
      "execution_count": 2,
      "metadata": {
        "colab": {
          "base_uri": "https://localhost:8080/"
        },
        "id": "pdvMGFwBfQqP",
        "outputId": "3d93733f-59ea-48ff-c44b-2ce8820ce715"
      },
      "outputs": [
        {
          "output_type": "stream",
          "name": "stdout",
          "text": [
            "Mounted at /content/drive\n"
          ]
        }
      ],
      "source": [
        "# Import required libraries\n",
        "import pandas as pd\n",
        "import numpy as np\n",
        "import matplotlib.pyplot as plt\n",
        "import json\n",
        "import os\n",
        "\n",
        "# Optional: Mount Google Drive (uncomment the lines below if needed in Colab)\n",
        "from google.colab import drive\n",
        "drive.mount('/content/drive')"
      ]
    },
    {
      "cell_type": "markdown",
      "source": [
        "## Step 2: Data Loading"
      ],
      "metadata": {
        "id": "cikOQoetmUzq"
      }
    },
    {
      "cell_type": "code",
      "source": [
        "# Define the function to load JSON file into a DataFrame\n",
        "def load_motion_data(json_file):\n",
        "    with open(json_file, 'r') as f:\n",
        "        data = json.load(f)\n",
        "\n",
        "    # Check the structure of the JSON file\n",
        "    if 'frames' not in data or not isinstance(data['frames'], list):\n",
        "        print(f\"Unexpected JSON structure in file: {json_file}\")\n",
        "        return pd.DataFrame()  # Return an empty DataFrame for invalid files\n",
        "\n",
        "    # Flatten JSON structure into a DataFrame\n",
        "    frames = []\n",
        "    for frame in data['frames']:\n",
        "        if 'keypoints' in frame and 'timestamp' in frame:\n",
        "            frame_data = {f\"keypoint_{i}\": frame['keypoints'][i] for i in range(len(frame['keypoints']))}\n",
        "            frame_data['timestamp'] = frame['timestamp']\n",
        "            frames.append(frame_data)\n",
        "        else:\n",
        "            print(f\"Skipping frame due to missing data: {frame}\")\n",
        "\n",
        "    return pd.DataFrame(frames)\n",
        "\n",
        "# Define the directory containing the motion data JSON files\n",
        "motion_data_dir = '/content/drive/MyDrive/final-year-project/motion_data/'\n",
        "\n",
        "# Load all JSON files in the directory\n",
        "motion_data_files = [f for f in os.listdir(motion_data_dir) if f.endswith('.json')]\n",
        "\n",
        "# Combine data from all JSON files into a single DataFrame\n",
        "all_motion_data = pd.DataFrame()\n",
        "\n",
        "for json_file in motion_data_files:\n",
        "    file_path = os.path.join(motion_data_dir, json_file)\n",
        "    motion_df = load_motion_data(file_path)\n",
        "    if not motion_df.empty:\n",
        "        motion_df['source_file'] = json_file  # Add a column to track the source file\n",
        "        all_motion_data = pd.concat([all_motion_data, motion_df], ignore_index=True)\n",
        "\n",
        "# Display a sample of the combined DataFrame\n",
        "print(\"Combined Motion Data Sample:\")\n",
        "print(all_motion_data.head())"
      ],
      "metadata": {
        "colab": {
          "base_uri": "https://localhost:8080/"
        },
        "id": "yKZ7PoC7mYMV",
        "outputId": "27178708-aef3-40d2-9419-deb54af7e4a0"
      },
      "execution_count": 4,
      "outputs": [
        {
          "output_type": "stream",
          "name": "stdout",
          "text": [
            "Unexpected JSON structure in file: /content/drive/MyDrive/final-year-project/motion_data/processed_processed_temp_All_day.json\n",
            "Unexpected JSON structure in file: /content/drive/MyDrive/final-year-project/motion_data/processed_processed_temp_Blow_sth_up.json\n",
            "Unexpected JSON structure in file: /content/drive/MyDrive/final-year-project/motion_data/processed_processed_temp_Beer.json\n",
            "Unexpected JSON structure in file: /content/drive/MyDrive/final-year-project/motion_data/processed_processed_temp_Bus.json\n",
            "Unexpected JSON structure in file: /content/drive/MyDrive/final-year-project/motion_data/processed_processed_temp_Belittle.json\n",
            "Unexpected JSON structure in file: /content/drive/MyDrive/final-year-project/motion_data/processed_processed_temp_Bed.json\n",
            "Unexpected JSON structure in file: /content/drive/MyDrive/final-year-project/motion_data/processed_processed_temp_A_turn_goes_to.json\n",
            "Unexpected JSON structure in file: /content/drive/MyDrive/final-year-project/motion_data/processed_processed_temp_An_eye_for_an_eye.json\n",
            "Unexpected JSON structure in file: /content/drive/MyDrive/final-year-project/motion_data/processed_processed_temp_A_variety_of.json\n",
            "Unexpected JSON structure in file: /content/drive/MyDrive/final-year-project/motion_data/processed_processed_temp_Bet.json\n",
            "Unexpected JSON structure in file: /content/drive/MyDrive/final-year-project/motion_data/processed_processed_temp_Automatic.json\n",
            "Unexpected JSON structure in file: /content/drive/MyDrive/final-year-project/motion_data/processed_processed_temp_Action.json\n",
            "Unexpected JSON structure in file: /content/drive/MyDrive/final-year-project/motion_data/processed_processed_temp_Brazil.json\n",
            "Unexpected JSON structure in file: /content/drive/MyDrive/final-year-project/motion_data/processed_processed_temp_Can.json\n",
            "Unexpected JSON structure in file: /content/drive/MyDrive/final-year-project/motion_data/processed_processed_temp_Big.json\n",
            "Combined Motion Data Sample:\n",
            "Empty DataFrame\n",
            "Columns: []\n",
            "Index: []\n"
          ]
        }
      ]
    },
    {
      "cell_type": "markdown",
      "source": [
        "## Step 3: Keypoints Mapping"
      ],
      "metadata": {
        "id": "CUvB--dxnOC4"
      }
    },
    {
      "cell_type": "code",
      "source": [
        "# Adjust keypoint indices based on supervisor's note\n",
        "keypoint_mapping = {\n",
        "    112: \"Right Hand Wrist\",  # Adjusted index (113 - 1)\n",
        "    11: \"Right Elbow\",\n",
        "    10: \"Right Shoulder\",\n",
        "    # Add other mappings as needed\n",
        "}\n",
        "\n",
        "# Example: Extract keypoint data for visualisation\n",
        "keypoint_columns = [f\"keypoint_{idx}\" for idx in keypoint_mapping.keys()]\n",
        "keypoint_data = all_motion_data[keypoint_columns + ['timestamp']]\n",
        "\n",
        "# Rename columns for clarity\n",
        "keypoint_data.rename(columns={f\"keypoint_{idx}\": name for idx, name in keypoint_mapping.items()}, inplace=True)\n",
        "print(\"Keypoint Data Sample:\")\n",
        "print(keypoint_data.head())"
      ],
      "metadata": {
        "colab": {
          "base_uri": "https://localhost:8080/",
          "height": 382
        },
        "id": "SH3gCADknP67",
        "outputId": "6befeaa8-45a5-4f14-8cbf-7a9d76c38042"
      },
      "execution_count": 5,
      "outputs": [
        {
          "output_type": "error",
          "ename": "KeyError",
          "evalue": "\"None of [Index(['keypoint_112', 'keypoint_11', 'keypoint_10', 'timestamp'], dtype='object')] are in the [columns]\"",
          "traceback": [
            "\u001b[0;31m---------------------------------------------------------------------------\u001b[0m",
            "\u001b[0;31mKeyError\u001b[0m                                  Traceback (most recent call last)",
            "\u001b[0;32m<ipython-input-5-03c727b31cd6>\u001b[0m in \u001b[0;36m<cell line: 11>\u001b[0;34m()\u001b[0m\n\u001b[1;32m      9\u001b[0m \u001b[0;31m# Example: Extract keypoint data for visualisation\u001b[0m\u001b[0;34m\u001b[0m\u001b[0;34m\u001b[0m\u001b[0m\n\u001b[1;32m     10\u001b[0m \u001b[0mkeypoint_columns\u001b[0m \u001b[0;34m=\u001b[0m \u001b[0;34m[\u001b[0m\u001b[0;34mf\"keypoint_{idx}\"\u001b[0m \u001b[0;32mfor\u001b[0m \u001b[0midx\u001b[0m \u001b[0;32min\u001b[0m \u001b[0mkeypoint_mapping\u001b[0m\u001b[0;34m.\u001b[0m\u001b[0mkeys\u001b[0m\u001b[0;34m(\u001b[0m\u001b[0;34m)\u001b[0m\u001b[0;34m]\u001b[0m\u001b[0;34m\u001b[0m\u001b[0;34m\u001b[0m\u001b[0m\n\u001b[0;32m---> 11\u001b[0;31m \u001b[0mkeypoint_data\u001b[0m \u001b[0;34m=\u001b[0m \u001b[0mall_motion_data\u001b[0m\u001b[0;34m[\u001b[0m\u001b[0mkeypoint_columns\u001b[0m \u001b[0;34m+\u001b[0m \u001b[0;34m[\u001b[0m\u001b[0;34m'timestamp'\u001b[0m\u001b[0;34m]\u001b[0m\u001b[0;34m]\u001b[0m\u001b[0;34m\u001b[0m\u001b[0;34m\u001b[0m\u001b[0m\n\u001b[0m\u001b[1;32m     12\u001b[0m \u001b[0;34m\u001b[0m\u001b[0m\n\u001b[1;32m     13\u001b[0m \u001b[0;31m# Rename columns for clarity\u001b[0m\u001b[0;34m\u001b[0m\u001b[0;34m\u001b[0m\u001b[0m\n",
            "\u001b[0;32m/usr/local/lib/python3.10/dist-packages/pandas/core/frame.py\u001b[0m in \u001b[0;36m__getitem__\u001b[0;34m(self, key)\u001b[0m\n\u001b[1;32m   4106\u001b[0m             \u001b[0;32mif\u001b[0m \u001b[0mis_iterator\u001b[0m\u001b[0;34m(\u001b[0m\u001b[0mkey\u001b[0m\u001b[0;34m)\u001b[0m\u001b[0;34m:\u001b[0m\u001b[0;34m\u001b[0m\u001b[0;34m\u001b[0m\u001b[0m\n\u001b[1;32m   4107\u001b[0m                 \u001b[0mkey\u001b[0m \u001b[0;34m=\u001b[0m \u001b[0mlist\u001b[0m\u001b[0;34m(\u001b[0m\u001b[0mkey\u001b[0m\u001b[0;34m)\u001b[0m\u001b[0;34m\u001b[0m\u001b[0;34m\u001b[0m\u001b[0m\n\u001b[0;32m-> 4108\u001b[0;31m             \u001b[0mindexer\u001b[0m \u001b[0;34m=\u001b[0m \u001b[0mself\u001b[0m\u001b[0;34m.\u001b[0m\u001b[0mcolumns\u001b[0m\u001b[0;34m.\u001b[0m\u001b[0m_get_indexer_strict\u001b[0m\u001b[0;34m(\u001b[0m\u001b[0mkey\u001b[0m\u001b[0;34m,\u001b[0m \u001b[0;34m\"columns\"\u001b[0m\u001b[0;34m)\u001b[0m\u001b[0;34m[\u001b[0m\u001b[0;36m1\u001b[0m\u001b[0;34m]\u001b[0m\u001b[0;34m\u001b[0m\u001b[0;34m\u001b[0m\u001b[0m\n\u001b[0m\u001b[1;32m   4109\u001b[0m \u001b[0;34m\u001b[0m\u001b[0m\n\u001b[1;32m   4110\u001b[0m         \u001b[0;31m# take() does not accept boolean indexers\u001b[0m\u001b[0;34m\u001b[0m\u001b[0;34m\u001b[0m\u001b[0m\n",
            "\u001b[0;32m/usr/local/lib/python3.10/dist-packages/pandas/core/indexes/base.py\u001b[0m in \u001b[0;36m_get_indexer_strict\u001b[0;34m(self, key, axis_name)\u001b[0m\n\u001b[1;32m   6198\u001b[0m             \u001b[0mkeyarr\u001b[0m\u001b[0;34m,\u001b[0m \u001b[0mindexer\u001b[0m\u001b[0;34m,\u001b[0m \u001b[0mnew_indexer\u001b[0m \u001b[0;34m=\u001b[0m \u001b[0mself\u001b[0m\u001b[0;34m.\u001b[0m\u001b[0m_reindex_non_unique\u001b[0m\u001b[0;34m(\u001b[0m\u001b[0mkeyarr\u001b[0m\u001b[0;34m)\u001b[0m\u001b[0;34m\u001b[0m\u001b[0;34m\u001b[0m\u001b[0m\n\u001b[1;32m   6199\u001b[0m \u001b[0;34m\u001b[0m\u001b[0m\n\u001b[0;32m-> 6200\u001b[0;31m         \u001b[0mself\u001b[0m\u001b[0;34m.\u001b[0m\u001b[0m_raise_if_missing\u001b[0m\u001b[0;34m(\u001b[0m\u001b[0mkeyarr\u001b[0m\u001b[0;34m,\u001b[0m \u001b[0mindexer\u001b[0m\u001b[0;34m,\u001b[0m \u001b[0maxis_name\u001b[0m\u001b[0;34m)\u001b[0m\u001b[0;34m\u001b[0m\u001b[0;34m\u001b[0m\u001b[0m\n\u001b[0m\u001b[1;32m   6201\u001b[0m \u001b[0;34m\u001b[0m\u001b[0m\n\u001b[1;32m   6202\u001b[0m         \u001b[0mkeyarr\u001b[0m \u001b[0;34m=\u001b[0m \u001b[0mself\u001b[0m\u001b[0;34m.\u001b[0m\u001b[0mtake\u001b[0m\u001b[0;34m(\u001b[0m\u001b[0mindexer\u001b[0m\u001b[0;34m)\u001b[0m\u001b[0;34m\u001b[0m\u001b[0;34m\u001b[0m\u001b[0m\n",
            "\u001b[0;32m/usr/local/lib/python3.10/dist-packages/pandas/core/indexes/base.py\u001b[0m in \u001b[0;36m_raise_if_missing\u001b[0;34m(self, key, indexer, axis_name)\u001b[0m\n\u001b[1;32m   6247\u001b[0m         \u001b[0;32mif\u001b[0m \u001b[0mnmissing\u001b[0m\u001b[0;34m:\u001b[0m\u001b[0;34m\u001b[0m\u001b[0;34m\u001b[0m\u001b[0m\n\u001b[1;32m   6248\u001b[0m             \u001b[0;32mif\u001b[0m \u001b[0mnmissing\u001b[0m \u001b[0;34m==\u001b[0m \u001b[0mlen\u001b[0m\u001b[0;34m(\u001b[0m\u001b[0mindexer\u001b[0m\u001b[0;34m)\u001b[0m\u001b[0;34m:\u001b[0m\u001b[0;34m\u001b[0m\u001b[0;34m\u001b[0m\u001b[0m\n\u001b[0;32m-> 6249\u001b[0;31m                 \u001b[0;32mraise\u001b[0m \u001b[0mKeyError\u001b[0m\u001b[0;34m(\u001b[0m\u001b[0;34mf\"None of [{key}] are in the [{axis_name}]\"\u001b[0m\u001b[0;34m)\u001b[0m\u001b[0;34m\u001b[0m\u001b[0;34m\u001b[0m\u001b[0m\n\u001b[0m\u001b[1;32m   6250\u001b[0m \u001b[0;34m\u001b[0m\u001b[0m\n\u001b[1;32m   6251\u001b[0m             \u001b[0mnot_found\u001b[0m \u001b[0;34m=\u001b[0m \u001b[0mlist\u001b[0m\u001b[0;34m(\u001b[0m\u001b[0mensure_index\u001b[0m\u001b[0;34m(\u001b[0m\u001b[0mkey\u001b[0m\u001b[0;34m)\u001b[0m\u001b[0;34m[\u001b[0m\u001b[0mmissing_mask\u001b[0m\u001b[0;34m.\u001b[0m\u001b[0mnonzero\u001b[0m\u001b[0;34m(\u001b[0m\u001b[0;34m)\u001b[0m\u001b[0;34m[\u001b[0m\u001b[0;36m0\u001b[0m\u001b[0;34m]\u001b[0m\u001b[0;34m]\u001b[0m\u001b[0;34m.\u001b[0m\u001b[0munique\u001b[0m\u001b[0;34m(\u001b[0m\u001b[0;34m)\u001b[0m\u001b[0;34m)\u001b[0m\u001b[0;34m\u001b[0m\u001b[0;34m\u001b[0m\u001b[0m\n",
            "\u001b[0;31mKeyError\u001b[0m: \"None of [Index(['keypoint_112', 'keypoint_11', 'keypoint_10', 'timestamp'], dtype='object')] are in the [columns]\""
          ]
        }
      ]
    },
    {
      "cell_type": "markdown",
      "source": [
        "## Step 4: Visualisation"
      ],
      "metadata": {
        "id": "zPoYz_rgnTVo"
      }
    },
    {
      "cell_type": "code",
      "source": [
        "# Plot motion trajectories of specific keypoints over time\n",
        "def plot_keypoint_motion(data, keypoint_name):\n",
        "    plt.figure(figsize=(10, 6))\n",
        "    plt.plot(data['timestamp'], data[keypoint_name], label=keypoint_name, marker='o')\n",
        "    plt.title(f\"Motion Trajectory of {keypoint_name}\")\n",
        "    plt.xlabel(\"Time (s)\")\n",
        "    plt.ylabel(\"Position Value\")\n",
        "    plt.legend()\n",
        "    plt.grid()\n",
        "    plt.show()\n",
        "\n",
        "# Example: Plot motion of the Right Hand Wrist\n",
        "plot_keypoint_motion(keypoint_data, \"Right Hand Wrist\")"
      ],
      "metadata": {
        "id": "EFYVfsb2nVBu"
      },
      "execution_count": null,
      "outputs": []
    },
    {
      "cell_type": "markdown",
      "source": [
        "## Step 5: Basic Motion Analysis"
      ],
      "metadata": {
        "id": "8za_5t3qnaJs"
      }
    },
    {
      "cell_type": "code",
      "source": [
        "# Calculate motion magnitude for a specific keypoint\n",
        "def calculate_motion_magnitude(data, keypoint_name):\n",
        "    data[f\"{keypoint_name}_magnitude\"] = data[keypoint_name].diff().abs()\n",
        "    return data\n",
        "\n",
        "# Example: Analyse motion magnitude of the Right Hand Wrist\n",
        "keypoint_data = calculate_motion_magnitude(keypoint_data, \"Right Hand Wrist\")\n",
        "print(\"Motion Magnitude Analysis Sample:\")\n",
        "print(keypoint_data.head())\n"
      ],
      "metadata": {
        "id": "ECI1OWkwnYM3"
      },
      "execution_count": null,
      "outputs": []
    },
    {
      "cell_type": "code",
      "source": [
        "# Additional Steps (to be extended as needed):\n",
        "# - Compare motion data across different files\n",
        "# - Identify patterns corresponding to backhand/forehand movements\n",
        "# - Extend analysis for videos once linked to the motion data"
      ],
      "metadata": {
        "id": "oFhkfs55ndGG"
      },
      "execution_count": null,
      "outputs": []
    }
  ]
}